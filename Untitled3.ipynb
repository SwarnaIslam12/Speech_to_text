{
  "nbformat": 4,
  "nbformat_minor": 0,
  "metadata": {
    "colab": {
      "provenance": [],
      "mount_file_id": "1yeHezxuLD5iFieL-htRPNOszAq3OlVpr",
      "authorship_tag": "ABX9TyPAqKHxm7aO6kmHB2yMBOfY",
      "include_colab_link": true
    },
    "kernelspec": {
      "name": "python3",
      "display_name": "Python 3"
    },
    "language_info": {
      "name": "python"
    }
  },
  "cells": [
    {
      "cell_type": "markdown",
      "metadata": {
        "id": "view-in-github",
        "colab_type": "text"
      },
      "source": [
        "<a href=\"https://colab.research.google.com/github/SwarnaIslam12/Speech_to_text/blob/main/Untitled3.ipynb\" target=\"_parent\"><img src=\"https://colab.research.google.com/assets/colab-badge.svg\" alt=\"Open In Colab\"/></a>"
      ]
    },
    {
      "cell_type": "code",
      "source": [
        "!pip install git+https://github.com/openai/whisper.git"
      ],
      "metadata": {
        "id": "uJGobWdZiF4a"
      },
      "execution_count": null,
      "outputs": []
    },
    {
      "cell_type": "code",
      "source": [
        "from google.colab import drive\n",
        "drive.mount('/content/drive')"
      ],
      "metadata": {
        "colab": {
          "base_uri": "https://localhost:8080/"
        },
        "id": "5jtY2Kk5tebH",
        "outputId": "2a8e4937-acae-4d91-beb4-35d1184a9af6"
      },
      "execution_count": 12,
      "outputs": [
        {
          "output_type": "stream",
          "name": "stdout",
          "text": [
            "Drive already mounted at /content/drive; to attempt to forcibly remount, call drive.mount(\"/content/drive\", force_remount=True).\n"
          ]
        }
      ]
    },
    {
      "cell_type": "code",
      "execution_count": 14,
      "metadata": {
        "colab": {
          "base_uri": "https://localhost:8080/"
        },
        "id": "GrfCENnxhu3_",
        "outputId": "bbb477ab-f434-4cb4-f290-9bc918529ca4"
      },
      "outputs": [
        {
          "output_type": "stream",
          "name": "stdout",
          "text": [
            "Detected Language: en\n",
            "The stale smell of old beer lingers. It takes heat to bring out the odor. A cold dip restores health and zest. A salt pickle tastes fine with ham. Tacos al pastor are my favorite. A zestful food is the hot cross bun.\n"
          ]
        }
      ],
      "source": [
        "import whisper\n",
        "model=whisper.load_model(\"base\")\n",
        "audio=whisper.load_audio(\"/content/drive/MyDrive/harvard.wav\")\n",
        "audio=whisper.pad_or_trim(audio)\n",
        "mel=whisper.log_mel_spectrogram(audio).to(model.device)\n",
        "_, probs=model.detect_language(mel)\n",
        "print(f\"Detected Language: {max(probs, key=probs.get)}\")\n",
        "options=whisper.DecodingOptions(fp16=False)\n",
        "result=whisper.decode(model, mel, options)\n",
        "#\n",
        "print(result.text)"
      ]
    }
  ]
}